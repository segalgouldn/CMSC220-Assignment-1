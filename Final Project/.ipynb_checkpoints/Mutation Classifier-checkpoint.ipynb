{
 "cells": [
  {
   "cell_type": "markdown",
   "metadata": {},
   "source": [
    "### Bioinformatics and Beyond Final Project\n",
    "#### By Noah Segal-Gould\n",
    "#### Explanation:\n",
    "* In a homework assignment, we implemented a method for detecting the *type* of mutation which occurred between an original sequence and a sequence which underwent a single insertion, deletion, or point mutation.\n",
    "* In this project, I approach this ***detection*** as a matter of text classification.\n",
    "    * I implement a technique for acquiring all distinct insertion, deletion, and point mutations of a nucleotide sequence. It's really costly, so I limit the nucleotide sequences to be of maximum length **6**.\n",
    "    * Then I use those strings as training data for a probabilistic Naive Bayes classifier. It's ***naive*** because it treats all features as *conditionally independent*, even when they obviously should be *dependent* **especially** when we're comparing sequences.\n",
    "    * Finally, I use k-folds cross-validation to test the performance of this technique."
   ]
  },
  {
   "cell_type": "code",
   "execution_count": 1,
   "metadata": {},
   "outputs": [],
   "source": [
    "import re\n",
    "import json\n",
    "import random\n",
    "import itertools\n",
    "\n",
    "import matplotlib.pyplot as plt\n",
    "import numpy as np\n",
    "\n",
    "from pprint import pprint\n",
    "from itertools import product\n",
    "from sklearn.pipeline import Pipeline\n",
    "from sklearn.naive_bayes import MultinomialNB\n",
    "from sklearn.feature_extraction.text import CountVectorizer\n",
    "from sklearn.metrics import confusion_matrix\n",
    "from sklearn.model_selection import KFold\n",
    "from random import choice, shuffle, randint\n",
    "%matplotlib inline"
   ]
  },
  {
   "cell_type": "code",
   "execution_count": 2,
   "metadata": {},
   "outputs": [],
   "source": [
    "class MutationsClassifier:\n",
    "    def __init__(self, initial_sequence_length=3):        \n",
    "        self.default_nucleotides = \"ATCG\"\n",
    "        \n",
    "        self.initial_sequence_length = initial_sequence_length\n",
    "        \n",
    "        self.data = self.generate_training_data()\n",
    "        self.pipeline = Pipeline([\n",
    "            (\"vectorizer\", CountVectorizer(stop_words=None, lowercase=False)),\n",
    "            (\"classifier\", MultinomialNB())\n",
    "        ])\n",
    "        \n",
    "    def generate_all_sequences_with_length(self, initial_sequence_length=3):\n",
    "        return [\"\".join(n) for n in product(self.default_nucleotides, repeat=initial_sequence_length)]\n",
    "                \n",
    "    def all_point_mutations(self, sequence):\n",
    "        point_mutations = []\n",
    "        for mutation_index in range(len(sequence)):\n",
    "            mutation_index_nucleotide = sequence[mutation_index]\n",
    "\n",
    "            mutation_beginning = sequence[:mutation_index]\n",
    "            mutation_end = sequence[mutation_index + 1:]\n",
    "            \n",
    "            for nucleotide in self.default_nucleotides.replace(mutation_index_nucleotide, \"\"):\n",
    "                complete_point_mutation = mutation_beginning + nucleotide + mutation_end\n",
    "                if sequence != complete_point_mutation:\n",
    "                    point_mutations.append(complete_point_mutation)\n",
    "\n",
    "        return list(set(point_mutations))\n",
    "\n",
    "    def all_insertion_mutations(self, sequence):\n",
    "        insertion_mutations = []\n",
    "        for mutation_index in range(len(sequence)):\n",
    "            insertion_beginning = sequence[:mutation_index]\n",
    "            insertion_end = sequence[mutation_index:]\n",
    "            for nucleotide in self.default_nucleotides:\n",
    "                complete_insertion_mutation = insertion_beginning + nucleotide + insertion_end\n",
    "                if complete_insertion_mutation != sequence:\n",
    "                    insertion_mutations.append(complete_insertion_mutation)\n",
    "            \n",
    "        return list(set(insertion_mutations))\n",
    "\n",
    "    def all_deletion_mutations(self, sequence):\n",
    "        deletion_mutations = []\n",
    "        for mutation_index in range(len(sequence)):\n",
    "            complete_deletion_mutation = sequence[:mutation_index] + sequence[mutation_index + 1:]\n",
    "            if complete_deletion_mutation != sequence:\n",
    "                deletion_mutations.append(complete_deletion_mutation)\n",
    "        return list(set(deletion_mutations))\n",
    "\n",
    "    def generate_training_data(self):\n",
    "        mutations = []\n",
    "        for i in range(self.initial_sequence_length, (self.initial_sequence_length * 2) + 1):\n",
    "            for sequence in self.generate_all_sequences_with_length(i):\n",
    "                for point_mutation in self.all_point_mutations(sequence):\n",
    "                    mutations.append((sequence + \" \" + point_mutation, \"point_mutation\"))\n",
    "                for insertion_mutation in self.all_insertion_mutations(sequence):\n",
    "                    mutations.append((sequence + \" \" + insertion_mutation, \"insertion_mutation\"))\n",
    "                for deletion_mutation in self.all_deletion_mutations(sequence):\n",
    "                    mutations.append((sequence + \" \" + deletion_mutation, \"deletion_mutation\"))\n",
    "        shuffle(mutations)\n",
    "        return mutations\n",
    "\n",
    "    def classify(self, sequences):\n",
    "        self.pipeline.fit([group[0] for group in self.data], \n",
    "                          [group[1] for group in self.data])\n",
    "        return dict(zip(sequences, self.pipeline.predict(sequences).tolist()))\n",
    "    \n",
    "    def cross_validation(self, num_folds=10):\n",
    "        text_training_data = np.array([row[0] for row in self.data])\n",
    "        class_training_data = np.array([row[1] for row in self.data])\n",
    "        kf = KFold(n_splits=num_folds, shuffle=True)\n",
    "\n",
    "        cnf_matrix_test = np.zeros((3, 3), dtype=int)\n",
    "        for i, (train_index, test_index) in enumerate(kf.split(text_training_data)):\n",
    "            \n",
    "            text_train, text_test = text_training_data[train_index], text_training_data[test_index]\n",
    "            class_train, class_test = class_training_data[train_index], class_training_data[test_index]\n",
    "\n",
    "            self.pipeline.fit(text_train, class_train)\n",
    "\n",
    "            predictions_test = self.pipeline.predict(text_test)\n",
    "\n",
    "            cnf_matrix_test += confusion_matrix(class_test, predictions_test)\n",
    "            \n",
    "            print(\"Fold #{} Complete.\".format(i + 1))\n",
    "            \n",
    "        def plot_confusion_matrix(cm, title=\"Confusion Matrix\", cmap=plt.cm.Reds):\n",
    "            classes = self.pipeline.classes_\n",
    "            cm_normalized = cm.astype(\"float\") / cm.sum(axis=1)[:, np.newaxis]\n",
    "\n",
    "            plt.imshow(cm, interpolation=\"nearest\", cmap=cmap)\n",
    "            plt.colorbar()\n",
    "\n",
    "            plt.title(title, size=14)\n",
    "\n",
    "            tick_marks = np.arange(len(classes))\n",
    "            plt.xticks(tick_marks, classes, rotation=45, fontsize=12)\n",
    "            plt.yticks(tick_marks, classes, fontsize=12)\n",
    "\n",
    "            thresh = cm.max() / 2.\n",
    "            for i, j in itertools.product(range(cm.shape[0]), range(cm.shape[1])):\n",
    "                plt.text(j, i, \"{} ({:.0%})\".format(cm[i, j], cm_normalized[i, j]),\n",
    "                        horizontalalignment=\"center\", size=12,\n",
    "                        color=\"white\" if cm[i, j] > thresh else \"black\")\n",
    "\n",
    "            plt.tight_layout()\n",
    "\n",
    "            plt.ylabel(\"True label\", fontsize=12)\n",
    "            plt.xlabel(\"Predicted Label\", fontsize=12)\n",
    "        \n",
    "        np.set_printoptions(precision=2)\n",
    "\n",
    "        plt.figure(figsize=(8, 8))\n",
    "        plot_confusion_matrix(cnf_matrix_test, title=\"Accumulated Confusion Matrix Across 10 Folds\")\n",
    "        plt.show()\n",
    "        \n",
    "        class_training_data = class_training_data.tolist()\n",
    "        print(\"Total sequences in each class:\")\n",
    "        print(\"point_mutation: {}\".format(class_training_data.count(\"point_mutation\")))\n",
    "        print(\"insertion_mutation: {}\".format(class_training_data.count(\"insertion_mutation\")))\n",
    "        print(\"deletion_mutation: {}\".format(class_training_data.count(\"deletion_mutation\")))"
   ]
  },
  {
   "cell_type": "code",
   "execution_count": 3,
   "metadata": {},
   "outputs": [
    {
     "name": "stdout",
     "output_type": "stream",
     "text": [
      "CPU times: user 446 ms, sys: 16.5 ms, total: 462 ms\n",
      "Wall time: 463 ms\n"
     ]
    }
   ],
   "source": [
    "%%time\n",
    "mutations_classifier_test_1 = MutationsClassifier()"
   ]
  },
  {
   "cell_type": "code",
   "execution_count": 4,
   "metadata": {},
   "outputs": [],
   "source": [
    "tests = [\"GGGA TGGA\",         # Should be a point mutation\n",
    "         \"GGAT TGAT\",         # Should be a point mutation\n",
    "         \"CATTAC CATCAC\",     # Should be a point mutation\n",
    "         \"GGA GG\",            # Should be a deletion mutation\n",
    "         \"CGAT CGA\",          # Should be a deletion mutation\n",
    "         \"CGATAG CGTAG\",      # Should be a deletion mutation\n",
    "         \"CGTCAA CGTCAAA\",    # Should be an insertion mutation\n",
    "         \"GAT GGAT\",          # Should be an insertion mutation\n",
    "         \"CCCC CCTCC\"]        # Should be an insertion mutation"
   ]
  },
  {
   "cell_type": "code",
   "execution_count": 5,
   "metadata": {},
   "outputs": [
    {
     "name": "stdout",
     "output_type": "stream",
     "text": [
      "{'CATTAC CATCAC': 'point_mutation',\n",
      " 'CCCC CCTCC': 'deletion_mutation',\n",
      " 'CGAT CGA': 'deletion_mutation',\n",
      " 'CGATAG CGTAG': 'point_mutation',\n",
      " 'CGTCAA CGTCAAA': 'insertion_mutation',\n",
      " 'GAT GGAT': 'deletion_mutation',\n",
      " 'GGA GG': 'deletion_mutation',\n",
      " 'GGAT TGAT': 'deletion_mutation',\n",
      " 'GGGA TGGA': 'deletion_mutation'}\n",
      "CPU times: user 1.58 s, sys: 76.7 ms, total: 1.65 s\n",
      "Wall time: 1.67 s\n"
     ]
    }
   ],
   "source": [
    "%%time\n",
    "results_dictionary = mutations_classifier_test_1.classify(tests)\n",
    "pprint(results_dictionary)"
   ]
  },
  {
   "cell_type": "code",
   "execution_count": 6,
   "metadata": {},
   "outputs": [
    {
     "name": "stdout",
     "output_type": "stream",
     "text": [
      "['TGATAG', 'CGGTAG', 'CGAAAG', 'CGATTG', 'AGATAG', 'CGACAG', 'CTATAG', 'CGATCG', 'CGATAA', 'CGTTAG', 'CCATAG', 'CGATGG', 'CAATAG', 'GGATAG', 'CGATAC', 'CGAGAG', 'CGCTAG', 'CGATAT']\n"
     ]
    }
   ],
   "source": [
    "print(mutations_classifier_test_1.all_point_mutations(\"CGATAG\"))"
   ]
  },
  {
   "cell_type": "code",
   "execution_count": 7,
   "metadata": {},
   "outputs": [
    {
     "name": "stdout",
     "output_type": "stream",
     "text": [
      "['CCGATAG', 'CAGATAG', 'GCGATAG', 'CGAATAG', 'CGTATAG', 'CGACTAG', 'CGATAAG', 'CGATACG', 'CGATCAG', 'ACGATAG', 'CGATTAG', 'CGATAGG', 'CGCATAG', 'CGGATAG', 'CTGATAG', 'CGAGTAG', 'TCGATAG', 'CGATGAG', 'CGATATG']\n"
     ]
    }
   ],
   "source": [
    "print(mutations_classifier_test_1.all_insertion_mutations(\"CGATAG\"))"
   ]
  },
  {
   "cell_type": "code",
   "execution_count": 8,
   "metadata": {},
   "outputs": [
    {
     "name": "stdout",
     "output_type": "stream",
     "text": [
      "['GATAG', 'CATAG', 'CGATG', 'CGTAG', 'CGAAG', 'CGATA']\n"
     ]
    }
   ],
   "source": [
    "print(mutations_classifier_test_1.all_deletion_mutations(\"CGATAG\"))"
   ]
  },
  {
   "cell_type": "code",
   "execution_count": 9,
   "metadata": {},
   "outputs": [
    {
     "name": "stdout",
     "output_type": "stream",
     "text": [
      "CPU times: user 514 ms, sys: 32 ms, total: 546 ms\n",
      "Wall time: 556 ms\n"
     ]
    }
   ],
   "source": [
    "%%time\n",
    "mutations_classifier_test_2 = MutationsClassifier()"
   ]
  },
  {
   "cell_type": "code",
   "execution_count": 10,
   "metadata": {},
   "outputs": [
    {
     "name": "stdout",
     "output_type": "stream",
     "text": [
      "Fold #1 Complete.\n",
      "Fold #2 Complete.\n",
      "Fold #3 Complete.\n",
      "Fold #4 Complete.\n",
      "Fold #5 Complete.\n",
      "Fold #6 Complete.\n",
      "Fold #7 Complete.\n",
      "Fold #8 Complete.\n",
      "Fold #9 Complete.\n",
      "Fold #10 Complete.\n"
     ]
    },
    {
     "data": {
      "image/png": "[encoded data removed]",
      "text/plain": [
       "<Figure size 576x576 with 2 Axes>"
      ]
     },
     "metadata": {},
     "output_type": "display_data"
    },
    {
     "name": "stdout",
     "output_type": "stream",
     "text": [
      "Total sequences in each class:\n",
      "point_mutation: 92736\n",
      "insertion_mutation: 98176\n",
      "deletion_mutation: 24544\n",
      "CPU times: user 15.5 s, sys: 631 ms, total: 16.1 s\n",
      "Wall time: 16.4 s\n"
     ]
    }
   ],
   "source": [
    "%%time\n",
    "mutations_classifier_test_2.cross_validation()"
   ]
  }
 ],
 "metadata": {
  "kernelspec": {
   "display_name": "Python 3",
   "language": "python",
   "name": "python3"
  },
  "language_info": {
   "codemirror_mode": {
    "name": "ipython",
    "version": 3
   },
   "file_extension": ".py",
   "mimetype": "text/x-python",
   "name": "python",
   "nbconvert_exporter": "python",
   "pygments_lexer": "ipython3",
   "version": "3.6.4"
  }
 },
 "nbformat": 4,
 "nbformat_minor": 2
}
