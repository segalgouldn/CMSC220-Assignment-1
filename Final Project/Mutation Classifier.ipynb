{
 "cells": [
  {
   "cell_type": "markdown",
   "metadata": {},
   "source": [
    "### Bioinformatics and Beyond Final Project\n",
    "#### Goal: Classify mutations using K-Nearest-Neighbors \n",
    "Resources:\n",
    "* A human gene\n",
    "    * Specifically, [Homo sapiens hexosaminidase subunit alpha (HEXA)](https://www.ncbi.nlm.nih.gov/nuccore/NG_009017.1?from=4707&to=37745&report=fasta)\n",
    "* K-Nearest-Neighbors\n",
    "* TF-IDF (?)\n",
    "* K-Mers (?)"
   ]
  },
  {
   "cell_type": "code",
   "execution_count": 1,
   "metadata": {},
   "outputs": [],
   "source": [
    "sequence = \"\".join(open(\"data/HEXA.fasta\").read().split(\"\\n\")[1:])"
   ]
  },
  {
   "cell_type": "code",
   "execution_count": null,
   "metadata": {},
   "outputs": [],
   "source": []
  }
 ],
 "metadata": {
  "kernelspec": {
   "display_name": "Python 3",
   "language": "python",
   "name": "python3"
  },
  "language_info": {
   "codemirror_mode": {
    "name": "ipython",
    "version": 3
   },
   "file_extension": ".py",
   "mimetype": "text/x-python",
   "name": "python",
   "nbconvert_exporter": "python",
   "pygments_lexer": "ipython3",
   "version": "3.6.4"
  }
 },
 "nbformat": 4,
 "nbformat_minor": 2
}
