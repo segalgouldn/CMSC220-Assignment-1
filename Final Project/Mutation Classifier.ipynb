{
 "cells": [
  {
   "cell_type": "markdown",
   "metadata": {},
   "source": [
    "### Bioinformatics and Beyond Final Project\n",
    "#### Goal: Classify mutations using K-Nearest-Neighbors \n",
    "Resources:\n",
    "* A human gene\n",
    "    * Specifically, [Homo sapiens hexosaminidase subunit alpha (HEXA)](https://www.ncbi.nlm.nih.gov/nuccore/NG_009017.1?from=4707&to=37745&report=fasta)\n",
    "* K-Nearest-Neighbors\n",
    "* TF-IDF (?)"
   ]
  },
  {
   "cell_type": "code",
   "execution_count": 1,
   "metadata": {},
   "outputs": [],
   "source": [
    "import re\n",
    "import json\n",
    "import random\n",
    "from sklearn.pipeline import Pipeline\n",
    "from sklearn.neighbors import KNeighborsClassifier\n",
    "from sklearn.feature_extraction.text import TfidfVectorizer"
   ]
  },
  {
   "cell_type": "code",
   "execution_count": 2,
   "metadata": {},
   "outputs": [],
   "source": [
    "sequence = \"\".join(open(\"data/HEXA.fasta\").read().split(\"\\n\")[1:])"
   ]
  },
  {
   "cell_type": "code",
   "execution_count": 3,
   "metadata": {},
   "outputs": [],
   "source": [
    "class MutationsClassifier:\n",
    "    def __init__(self, sequence, n=100):\n",
    "        self.genetic_code_dictionary, self.amino_acid_dictionary = json.load(open(\"codons.json\"))\n",
    "        \n",
    "        self.default_nucleotides = \"ATCG\"\n",
    "        self.codons_pattern = re.compile(r\".{3}\")\n",
    "        \n",
    "        self.number_mutations = n\n",
    "        \n",
    "        self.original_sequence = sequence\n",
    "        \n",
    "    def point_mutation(self, sequence):\n",
    "        mutation_index = random.randint(0, len(sequence) - 1)\n",
    "        mutation_index_nucleotide = sequence[mutation_index]\n",
    "\n",
    "        mutation_beginning = sequence[:mutation_index]\n",
    "        mutation_middle = random.choice(self.default_nucleotides.replace(mutation_index_nucleotide, \"\"))\n",
    "        mutation_end = sequence[mutation_index + 1:]\n",
    "\n",
    "        mutation_final = mutation_beginning + mutation_middle + mutation_end\n",
    "\n",
    "        if mutation_final == sequence:\n",
    "            mutation_final = point_mutation(sequence)\n",
    "\n",
    "        return mutation_final\n",
    "    \n",
    "    def insertion_mutation(self, sequence):\n",
    "        mutation_index = random.randint(0, len(sequence) - 1)\n",
    "        return sequence[:mutation_index] + random.choice(self.default_nucleotides) + sequence[mutation_index:]\n",
    "    \n",
    "    def deletion_mutation(self, sequence):\n",
    "        mutation_index = random.randint(0, len(sequence) - 1)\n",
    "        return sequence[:mutation_index] + sequence[mutation_index + 1:]\n",
    "    \n",
    "    def copy_number_addition_mutation(self, sequence):\n",
    "        for i in range(3, (len(sequence)//2) + 1):\n",
    "            kmers = [sequence[j:j + i] for j in range(len(sequence) - i + 1)]\n",
    "            for k, el in enumerate(kmers):\n",
    "                if k + i < len(kmers) and el == kmers[k + i]:\n",
    "                    match_index = k + (i * 2)\n",
    "                    return sequence[:match_index] + el + sequence[match_index:]\n",
    "    \n",
    "    def copy_number_subtraction_mutation(self, sequence):\n",
    "        for i in range(3, (len(sequence)//2) + 1):\n",
    "            kmers = [sequence[j:j + i] for j in range(len(sequence) - i + 1)]\n",
    "            for k, el in enumerate(kmers):\n",
    "                if k + i < len(kmers) and el == kmers[k + i]:\n",
    "                    match_index = k + (i * 2)\n",
    "                    return sequence[:match_index - i] + sequence[match_index:]\n",
    "                \n",
    "    def classify(self, sequences):\n",
    "        self.sequence_and_mutations_dictionary = {\"original_sequence\": self.original_sequence, \n",
    "                                                  \"mutations\": \n",
    "                                                  {\"point_mutations\":\n",
    "                                                   [(\" \".join(self.codons_pattern\n",
    "                                                    .findall(self.point_mutation\n",
    "                                                             (self.original_sequence)))) \n",
    "                                                    for _ in range(self.number_mutations)], \n",
    "                                                   \"insertion_mutations\": \n",
    "                                                   [(\" \".join(self.codons_pattern\n",
    "                                                    .findall(self.insertion_mutation\n",
    "                                                             (self.original_sequence)))) \n",
    "                                                    for _ in range(self.number_mutations)], \n",
    "                                                   \"deletion_mutations\": \n",
    "                                                   [(\" \".join(self.codons_pattern\n",
    "                                                    .findall(self.deletion_mutation\n",
    "                                                             (self.original_sequence)))) \n",
    "                                                    for _ in range(self.number_mutations)], \n",
    "                                                   \"copy_number_addition_mutations\": \n",
    "                                                   [(\" \".join(self.codons_pattern\n",
    "                                                    .findall(self.copy_number_addition_mutation\n",
    "                                                             (self.original_sequence)))) \n",
    "                                                    for _ in range(self.number_mutations)], \n",
    "                                                   \"copy_number_subtraction_mutations\": \n",
    "                                                   [(\" \".join(self.codons_pattern\n",
    "                                                    .findall(self.copy_number_subtraction_mutation\n",
    "                                                             (self.original_sequence)))) \n",
    "                                                    for _ in range(self.number_mutations)]}}\n",
    "            \n",
    "        self.mutations_and_types_list = []\n",
    "        for mutation_type, list_of_mutations in self.sequence_and_mutations_dictionary[\"mutations\"].items():\n",
    "            for mutation in list_of_mutations:\n",
    "                self.mutations_and_types_list.append((mutation, mutation_type))\n",
    "        \n",
    "        self.pipeline = Pipeline([\n",
    "            (\"vectorizer\", TfidfVectorizer()),\n",
    "            (\"classifier\", KNeighborsClassifier(10))\n",
    "        ])\n",
    "        \n",
    "        self.pipeline.fit([pair[0] for pair in self.mutations_and_types_list], \n",
    "                          [pair[1] for pair in self.mutations_and_types_list])\n",
    "        \n",
    "        return self.pipeline.predict(sequences)"
   ]
  },
  {
   "cell_type": "code",
   "execution_count": 4,
   "metadata": {},
   "outputs": [
    {
     "name": "stdout",
     "output_type": "stream",
     "text": [
      "CPU times: user 5.56 s, sys: 117 ms, total: 5.68 s\n",
      "Wall time: 5.73 s\n"
     ]
    },
    {
     "data": {
      "text/plain": [
       "['insertion_mutations',\n",
       " 'insertion_mutations',\n",
       " 'deletion_mutations',\n",
       " 'deletion_mutations',\n",
       " 'insertion_mutations']"
      ]
     },
     "execution_count": 4,
     "metadata": {},
     "output_type": "execute_result"
    }
   ],
   "source": [
    "%%time\n",
    "MutationsClassifier(sequence).classify([\"AAA TTT AAA TTT AAA TTT AAA TTT AAA\", \n",
    "                                        \"AAA AAA AAA AAA AAA AAA AAA AAA AAA\", \n",
    "                                        \"TTT TTT TTT TTT TTT TTT TTT TTT TTT\", \n",
    "                                        \"GGG CCC GGG CCC GGG CCC GGG CCC GGG\", \n",
    "                                        \"CGC GCG CGC GCG CGC GCG CGC GCG CGC\"]).tolist()"
   ]
  }
 ],
 "metadata": {
  "kernelspec": {
   "display_name": "Python 3",
   "language": "python",
   "name": "python3"
  },
  "language_info": {
   "codemirror_mode": {
    "name": "ipython",
    "version": 3
   },
   "file_extension": ".py",
   "mimetype": "text/x-python",
   "name": "python",
   "nbconvert_exporter": "python",
   "pygments_lexer": "ipython3",
   "version": "3.6.4"
  }
 },
 "nbformat": 4,
 "nbformat_minor": 2
}
