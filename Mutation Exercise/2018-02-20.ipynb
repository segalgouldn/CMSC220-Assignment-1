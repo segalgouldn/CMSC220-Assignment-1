{
 "cells": [
  {
   "cell_type": "code",
   "execution_count": 1,
   "metadata": {},
   "outputs": [],
   "source": [
    "from random import choice, randint\n",
    "import re"
   ]
  },
  {
   "cell_type": "code",
   "execution_count": 2,
   "metadata": {},
   "outputs": [],
   "source": [
    "nucleotides = list(\"ATCG\")"
   ]
  },
  {
   "cell_type": "code",
   "execution_count": 3,
   "metadata": {},
   "outputs": [],
   "source": [
    "standard_genetic_code = {'UUU':'Phe', 'UUC':'Phe', 'UCU':'Ser', 'UCC':'Ser',\n",
    "                         'UAU':'Tyr', 'UAC':'Tyr', 'UGU':'Cys', 'UGC':'Cys',\n",
    "                         'UUA':'Leu', 'UCA':'Ser', 'UAA':'Stop','UGA':'Stop',\n",
    "                         'UUG':'Leu', 'UCG':'Ser', 'UAG':'Stop','UGG':'Trp',\n",
    "                         'CUU':'Leu', 'CUC':'Leu', 'CCU':'Pro', 'CCC':'Pro',\n",
    "                         'CAU':'His', 'CAC':'His', 'CGU':'Arg', 'CGC':'Arg',\n",
    "                         'CUA':'Leu', 'CUG':'Leu', 'CCA':'Pro', 'CCG':'Pro',\n",
    "                         'CAA':'Gln', 'CAG':'Gln', 'CGA':'Arg', 'CGG':'Arg',\n",
    "                         'AUU':'Ile', 'AUC':'Ile', 'ACU':'Thr', 'ACC':'Thr',\n",
    "                         'AAU':'Asn', 'AAC':'Asn', 'AGU':'Ser', 'AGC':'Ser',\n",
    "                         'AUA':'Ile', 'ACA':'Thr', 'AAA':'Lys', 'AGA':'Arg',\n",
    "                         'AUG':'Met', 'ACG':'Thr', 'AAG':'Lys', 'AGG':'Arg',\n",
    "                         'GUU':'Val', 'GUC':'Val', 'GCU':'Ala', 'GCC':'Ala',\n",
    "                         'GAU':'Asp', 'GAC':'Asp', 'GGU':'Gly', 'GGC':'Gly',\n",
    "                         'GUA':'Val', 'GUG':'Val', 'GCA':'Ala', 'GCG':'Ala', \n",
    "                         'GAA':'Glu', 'GAG':'Glu', 'GGA':'Gly', 'GGG':'Gly'}"
   ]
  },
  {
   "cell_type": "code",
   "execution_count": 4,
   "metadata": {},
   "outputs": [],
   "source": [
    "amino_acid_code = {'Ala':'A', 'Cys':'C', 'Asp':'D', 'Glu':'E',\n",
    "                   'Phe':'F', 'Gly':'G', 'His':'H', 'Ile':'I',\n",
    "                   'Lys':'K', 'Leu':'L', 'Met':'M','Asn':'N',\n",
    "                   'Pro':'P', 'Gln':'Q', 'Arg':'R','Ser':'S',\n",
    "                   'Thr':'T', 'Val':'V', 'Trp':'W', 'Tyr':'Y',\n",
    "                   'Stop':'_'}"
   ]
  },
  {
   "cell_type": "code",
   "execution_count": 5,
   "metadata": {},
   "outputs": [],
   "source": [
    "def generate():\n",
    "    return \"\".join([choice(nucleotides) for n in range(10)])"
   ]
  },
  {
   "cell_type": "code",
   "execution_count": 6,
   "metadata": {},
   "outputs": [],
   "source": [
    "def mutate(sequence, mutation_type):\n",
    "    index = randint(0, len(sequence)-1)\n",
    "    if mutation_type == \"point\":\n",
    "        mutation = sequence[:index] + choice(nucleotides) + sequence[index + 1:]\n",
    "        if mutation == sequence:\n",
    "            mutation = mutate(sequence, \"point\")\n",
    "    elif mutation_type == \"deletion\":\n",
    "        mutation = sequence[:index] + sequence[index + 1:]\n",
    "    elif mutation_type == \"insertion\":\n",
    "        mutation = sequence[:index] + choice(nucleotides) + sequence[index:]\n",
    "    else: \n",
    "        raise Exception(\"Invalid Mutation Type: {}\".format(mutation_type))\n",
    "    return mutation"
   ]
  },
  {
   "cell_type": "code",
   "execution_count": 7,
   "metadata": {},
   "outputs": [],
   "source": [
    "def detect(sequence, mutation):\n",
    "    if sequence != mutation:\n",
    "        mutated_amino_acids = \"\".join([amino_acid_code[standard_genetic_code[codon]] \n",
    "                                       for codon in re.findall(\".{3}\", mutation.replace(\"T\", \"U\"))])\n",
    "        sequence_amino_acids = \"\".join([amino_acid_code[standard_genetic_code[codon]] \n",
    "                                       for codon in re.findall(\".{3}\", sequence.replace(\"T\", \"U\"))])\n",
    "        if mutated_amino_acids == sequence_amino_acids:\n",
    "            return \"Going from {0} to {1} there was a silent mutation\".format(sequence, mutation)\n",
    "        elif len(mutation) > len(sequence) and mutated_amino_acids != sequence_amino_acids:\n",
    "            return \"Going from {0} to {1} there was a frameshift insertion mutation\".format(sequence, mutation)\n",
    "        elif len(mutation) < len(sequence) and mutated_amino_acids != sequence_amino_acids:\n",
    "            return \"Going from {0} to {1} there was a frameshift deletion mutation\".format(sequence, mutation)\n",
    "        elif mutated_amino_acids != sequence_amino_acids:\n",
    "            return \"Going from {0} to {1} there was a missense mutation\".format(sequence, mutation)\n",
    "        elif \"_\" in mutation and \"_\" not in sequence:\n",
    "            return \"Going from {0} to {1} there was a nonsense mutation\".format(sequence, mutation)\n",
    "        else:\n",
    "            raise Exception(\"No mutation occurred going from {0} to {1}\".format(sequence, mutation))\n",
    "    else:\n",
    "        raise Exception(\"No mutation occurred going from {0} to {1}\".format(sequence, mutation))"
   ]
  },
  {
   "cell_type": "code",
   "execution_count": 8,
   "metadata": {},
   "outputs": [],
   "source": [
    "sequence = \"ATCGATCGAT\"\n",
    "generated = generate()\n",
    "point_mutated_sequence = mutate(sequence, \"point\")\n",
    "point_mutated_generated_sequence = mutate(generated, \"point\")\n",
    "deletion_mutated_sequence = mutate(sequence, \"deletion\")\n",
    "deletion_mutated_generated_sequence = mutate(generated, \"deletion\")\n",
    "insertion_mutated_sequence = mutate(sequence, \"insertion\")\n",
    "insertion_mutated_generated_sequence = mutate(generated, \"insertion\")"
   ]
  },
  {
   "cell_type": "code",
   "execution_count": 9,
   "metadata": {},
   "outputs": [
    {
     "name": "stdout",
     "output_type": "stream",
     "text": [
      "==================== Testing Mutations ====================\n",
      "The sequences are ATCGATCGAT & GAGAACCCCT\n",
      "The sequence \"ATCGATCGAT\" undergoes a point mutation and becomes \"ATCGAGCGAT\"\n",
      "The sequence \"ATCGATCGAT\" undergoes a deletion mutation and becomes \"ATGATCGAT\"\n",
      "The sequence \"ATCGATCGAT\" undergoes an insertion mutation and becomes \"ACTCGATCGAT\"\n",
      "The sequence \"GAGAACCCCT\" undergoes a point mutation and becomes \"GAGAATCCCT\"\n",
      "The sequence \"GAGAACCCCT\" undergoes a deletion mutation and becomes \"GAGACCCCT\"\n",
      "The sequence \"GAGAACCCCT\" undergoes an insertion mutation and becomes \"GAGAGACCCCT\"\n"
     ]
    }
   ],
   "source": [
    "print(\"=\"*20 + \" Testing Mutations \" + \"=\"*20)\n",
    "print(\"The sequences are {0} & {1}\".format(sequence, generated))\n",
    "print(\"The sequence \\\"{0}\\\" undergoes a point mutation and becomes \\\"{1}\\\"\".format(sequence, point_mutated_sequence))\n",
    "print(\"The sequence \\\"{0}\\\" undergoes a deletion mutation and becomes \\\"{1}\\\"\".format(sequence, deletion_mutated_sequence))\n",
    "print(\"The sequence \\\"{0}\\\" undergoes an insertion mutation and becomes \\\"{1}\\\"\".format(sequence, insertion_mutated_sequence))\n",
    "print(\"The sequence \\\"{0}\\\" undergoes a point mutation and becomes \\\"{1}\\\"\".format(generated, point_mutated_generated_sequence))\n",
    "print(\"The sequence \\\"{0}\\\" undergoes a deletion mutation and becomes \\\"{1}\\\"\".format(generated, deletion_mutated_generated_sequence))\n",
    "print(\"The sequence \\\"{0}\\\" undergoes an insertion mutation and becomes \\\"{1}\\\"\".format(generated, insertion_mutated_generated_sequence))"
   ]
  },
  {
   "cell_type": "code",
   "execution_count": 10,
   "metadata": {},
   "outputs": [
    {
     "name": "stdout",
     "output_type": "stream",
     "text": [
      "==================== Testing Mutation Detection ====================\n",
      "Going from ATCGATCGAT to ATCGAGCGAT there was a missense mutation\n",
      "Going from ATCGATCGAT to ATGATCGAT there was a frameshift deletion mutation\n",
      "Going from ATCGATCGAT to ACTCGATCGAT there was a frameshift insertion mutation\n",
      "Going from GAGAACCCCT to GAGAATCCCT there was a silent mutation\n",
      "Going from GAGAACCCCT to GAGACCCCT there was a frameshift deletion mutation\n",
      "Going from GAGAACCCCT to GAGAGACCCCT there was a frameshift insertion mutation\n"
     ]
    }
   ],
   "source": [
    "print(\"=\"*20 + \" Testing Mutation Detection \" + \"=\"*20)\n",
    "print(detect(sequence, point_mutated_sequence))\n",
    "print(detect(sequence, deletion_mutated_sequence))\n",
    "print(detect(sequence, insertion_mutated_sequence))\n",
    "print(detect(generated, point_mutated_generated_sequence))\n",
    "print(detect(generated, deletion_mutated_generated_sequence))\n",
    "print(detect(generated, insertion_mutated_generated_sequence))"
   ]
  }
 ],
 "metadata": {
  "kernelspec": {
   "display_name": "Python 3",
   "language": "python",
   "name": "python3"
  },
  "language_info": {
   "codemirror_mode": {
    "name": "ipython",
    "version": 3
   },
   "file_extension": ".py",
   "mimetype": "text/x-python",
   "name": "python",
   "nbconvert_exporter": "python",
   "pygments_lexer": "ipython3",
   "version": "3.6.4"
  }
 },
 "nbformat": 4,
 "nbformat_minor": 2
}
